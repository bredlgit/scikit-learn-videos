{
 "cells": [
  {
   "cell_type": "markdown",
   "metadata": {},
   "source": [
    "# Training a machine learning model with scikit-learn\n",
    "*From the video series: [Introduction to machine learning with scikit-learn](https://github.com/justmarkham/scikit-learn-videos)*"
   ]
  },
  {
   "cell_type": "markdown",
   "metadata": {},
   "source": [
    "## Agenda\n",
    "\n",
    "- What is the **K-nearest neighbors** classification model?\n",
    "- What are the four steps for **model training and prediction** in scikit-learn?\n",
    "- How can I apply this pattern to **other machine learning models**?"
   ]
  },
  {
   "cell_type": "markdown",
   "metadata": {},
   "source": [
    "## Reviewing the iris dataset"
   ]
  },
  {
   "cell_type": "code",
   "execution_count": 1,
   "metadata": {},
   "outputs": [
    {
     "data": {
      "text/html": [
       "\n",
       "        <iframe\n",
       "            width=\"300\"\n",
       "            height=\"200\"\n",
       "            src=\"http://archive.ics.uci.edu/ml/machine-learning-databases/iris/iris.data\"\n",
       "            frameborder=\"0\"\n",
       "            allowfullscreen\n",
       "        ></iframe>\n",
       "        "
      ],
      "text/plain": [
       "<IPython.lib.display.IFrame at 0x5f25c10>"
      ]
     },
     "execution_count": 1,
     "metadata": {},
     "output_type": "execute_result"
    }
   ],
   "source": [
    "from IPython.display import IFrame\n",
    "IFrame('http://archive.ics.uci.edu/ml/machine-learning-databases/iris/iris.data', width=300, height=200)"
   ]
  },
  {
   "cell_type": "markdown",
   "metadata": {},
   "source": [
    "- 150 **observations**\n",
    "- 4 **features** (sepal length, sepal width, petal length, petal width)\n",
    "- **Response** variable is the iris species\n",
    "- **Classification** problem since response is categorical\n",
    "- More information in the [UCI Machine Learning Repository](http://archive.ics.uci.edu/ml/datasets/Iris)"
   ]
  },
  {
   "cell_type": "markdown",
   "metadata": {},
   "source": [
    "## How might humans predict the species of an unknown iris given its measurements?\n",
    " - When looking at the data we might notice that the three species have somewhat dissimilar measurements\n",
    " - If so, we might hypothesise that the species of an unknown Iris might be predicted bhy looking for an Irises in the data with similar measurements \n",
    " - We could assume that our unknown Iris is the same species as those similar Irises \n",
    " - This process is similar to how the KK classification model works"
   ]
  },
  {
   "cell_type": "markdown",
   "metadata": {},
   "source": [
    "## K-nearest neighbors (KNN) classification\n",
    "1. Pick a value for K \n",
    "    - eg 5, We'll see in the next video how to choose this value\n",
    "2. Search for the K observations in the training data that are \"nearest\" to the measurements of the unknown iris.\n",
    "    - That is, the model calculates the numerical distance between the unknown Iris and each of the 150 known Irises and selects the 5 known Irises with the smallest distance to the unknown Iris\n",
    "    - Euclidean distance is often used but others are also used\n",
    "3. Use the most popular response value from the K nearest neighbors as the predicted response value for the unknown iris."
   ]
  },
  {
   "cell_type": "markdown",
   "metadata": {},
   "source": [
    "### Example training data\n",
    "This is not the Iris training dataset\n",
    "- This dataset has two numerical features represented by the X & Y co-ordinates\n",
    "- Each point represents an observation and the colour of the point represents its Response class (Red, Blue or Green)\n",
    "\n",
    "![Training data](images/04_knn_dataset.png)"
   ]
  },
  {
   "cell_type": "markdown",
   "metadata": {},
   "source": [
    "### KNN classification map (K=1)\n",
    "- The background here has been coloured Red for all areas where the nearest neighbours are all Red\n",
    "    - The same has been done for Blue and Green\n",
    "    - The backgrounbd colour tells you what the predicted Response value would be for a new observation depending on its X & Y features\n",
    "    - If there was a new point was in the green area, inside the Blue area adjacent to another Green area, bottom left of the map), its predicted Response class would be Green because its nearest neighbour is Green\n",
    "\n",
    "![1NN classification map](images/04_1nn_map.png)"
   ]
  },
  {
   "cell_type": "markdown",
   "metadata": {},
   "source": [
    "### KNN classification map (K=5)\n",
    " - Decision boundaries - The boundaries between colours have changed because more neighbours are taken into account when making predictions\n",
    " - The predicted Response for a new observation in the example above, has now changed from Green to Blue because four of its nearest neighbours are Blue\n",
    " - The white areas are where KNN doesn't have enough information to make a clear decision because there is a tie between two classes\n",
    " - KNN is a very simple ML model but it can make highly accurate predictions if the different classes in the dataset have very dissimilar feature values \n",
    "![5NN classification map](images/04_5nn_map.png)\n",
    "\n",
    "*Image Credits: [Data3classes](http://commons.wikimedia.org/wiki/File:Data3classes.png#/media/File:Data3classes.png), [Map1NN](http://commons.wikimedia.org/wiki/File:Map1NN.png#/media/File:Map1NN.png), [Map5NN](http://commons.wikimedia.org/wiki/File:Map5NN.png#/media/File:Map5NN.png) by Agor153. Licensed under CC BY-SA 3.0*"
   ]
  },
  {
   "cell_type": "markdown",
   "metadata": {},
   "source": [
    "## Loading the data"
   ]
  },
  {
   "cell_type": "code",
   "execution_count": 3,
   "metadata": {},
   "outputs": [],
   "source": [
    "# import load_iris function from datasets module\n",
    "from sklearn.datasets import load_iris\n",
    "\n",
    "# save \"bunch\" object containing iris dataset and its attributes\n",
    "iris = load_iris()\n",
    "\n",
    "# store feature matrix in \"X\"\n",
    "X = iris.data\n",
    "\n",
    "# store response vector in \"y\"\n",
    "y = iris.target"
   ]
  },
  {
   "cell_type": "code",
   "execution_count": 4,
   "metadata": {},
   "outputs": [
    {
     "name": "stdout",
     "output_type": "stream",
     "text": [
      "(150, 4)\n",
      "(150,)\n"
     ]
    }
   ],
   "source": [
    "# print the shapes of X and y\n",
    "print(X.shape)\n",
    "print(y.shape)"
   ]
  },
  {
   "cell_type": "markdown",
   "metadata": {},
   "source": [
    " - X is a 2d array with 150 rows and 4 columns\n",
    " - Y is a 1d array with length 150\n",
    "     - Since there is one response value for each observation\n",
    "\n",
    "When loading your own data into scikit-learn, make sure to the four key requirements of input data that was outlined in the previous lecture"
   ]
  },
  {
   "cell_type": "markdown",
   "metadata": {},
   "source": [
    "## scikit-learn 4-step modeling pattern\n",
    "Let's begin the actual ML process\n",
    "scikit-learn provides a uniform interface to ML models and thus there is a common pattern that can be re-used across different models..."
   ]
  },
  {
   "cell_type": "markdown",
   "metadata": {},
   "source": [
    "**Step 1:** Import the class you plan to use"
   ]
  },
  {
   "cell_type": "code",
   "execution_count": 5,
   "metadata": {},
   "outputs": [],
   "source": [
    "from sklearn.neighbors import KNeighborsClassifier"
   ]
  },
  {
   "cell_type": "markdown",
   "metadata": {},
   "source": [
    "scikit-learn is carefully organised into modules, such as neighbours, so that it is easy to find the class that you are looking for"
   ]
  },
  {
   "cell_type": "markdown",
   "metadata": {},
   "source": [
    "**Step 2:** \"Instantiate\" the \"estimator\"\n",
    "\n",
    "- \"Estimator\" is scikit-learn's term for model\n",
    "    - scikit-learn refers to its models and estimators as their primary role is to estimate unknown quantities\n",
    "- \"Instantiate\" means \"make an instance of\"\n",
    "    - in this example, the KNeighborsClassifier class"
   ]
  },
  {
   "cell_type": "code",
   "execution_count": 6,
   "metadata": {},
   "outputs": [],
   "source": [
    "knn = KNeighborsClassifier(n_neighbors=1)"
   ]
  },
  {
   "cell_type": "markdown",
   "metadata": {},
   "source": [
    "- We have now created an instance of the KNeighborsClassifier class and called it knn\n",
    "    - ie We now have an object called knn that knows how to do KNN classification and is just waiting for some data\n",
    "- Name of the object does not matter but something that helps you remember what it is is a good idea\n",
    "    - Possible names are est for estimator or clf for classifier\n",
    "    - You might choose something to remind you what model you are using\n",
    "- Can specify tuning parameters (aka \"hyperparameters\") during this step\n",
    "    - ``(n_neighbors=1)`` - That's how we tell the knn object that when it runs the KNN algorithm it should be looking for the 1 nearest neighbour\n",
    "    - n_neighbors - Is a tuning or hyper parameter (next lecture)\n",
    "- All parameters not specified are set to their defaults\n",
    "    - By printing out the estimator object we can see all of those parameters"
   ]
  },
  {
   "cell_type": "code",
   "execution_count": 7,
   "metadata": {},
   "outputs": [
    {
     "name": "stdout",
     "output_type": "stream",
     "text": [
      "KNeighborsClassifier(algorithm='auto', leaf_size=30, metric='minkowski',\n",
      "           metric_params=None, n_jobs=1, n_neighbors=1, p=2,\n",
      "           weights='uniform')\n"
     ]
    }
   ],
   "source": [
    "print(knn)"
   ]
  },
  {
   "cell_type": "markdown",
   "metadata": {},
   "source": [
    "scikit-learn provides sensible defaults for its models so that you can get started with a new model without researching the meaning of every parameter"
   ]
  },
  {
   "cell_type": "markdown",
   "metadata": {},
   "source": [
    "**Step 3:** Fit the model with data (aka \"model training\")\n",
    "\n",
    "- Model is learning the relationship between X and y\n",
    "- Occurs in-place"
   ]
  },
  {
   "cell_type": "code",
   "execution_count": 8,
   "metadata": {},
   "outputs": [
    {
     "data": {
      "text/plain": [
       "KNeighborsClassifier(algorithm='auto', leaf_size=30, metric='minkowski',\n",
       "           metric_params=None, n_jobs=1, n_neighbors=1, p=2,\n",
       "           weights='uniform')"
      ]
     },
     "execution_count": 8,
     "metadata": {},
     "output_type": "execute_result"
    }
   ],
   "source": [
    "knn.fit(X, y)"
   ]
  },
  {
   "cell_type": "markdown",
   "metadata": {},
   "source": [
    " - Where X is the feature matrix and y is the response vector\n",
    " - This operation occurs inplace which is why I do not have to assign the result to another object"
   ]
  },
  {
   "cell_type": "markdown",
   "metadata": {},
   "source": [
    "**Step 4:** Predict the response for a new observation<br>\n",
    "That is, I am inputting the measurements for an unknown Iris and asking the fitted model to predict the Iris species based on what it has learned in the previous step \n",
    "\n",
    "- New observations are called \"out-of-sample\" data\n",
    "- Uses the information it learned during the model training process"
   ]
  },
  {
   "cell_type": "code",
   "execution_count": 9,
   "metadata": {},
   "outputs": [
    {
     "data": {
      "text/plain": [
       "array([2])"
      ]
     },
     "execution_count": 9,
     "metadata": {},
     "output_type": "execute_result"
    }
   ],
   "source": [
    "knn.predict([[3, 5, 4, 2]])"
   ]
  },
  {
   "cell_type": "markdown",
   "metadata": {},
   "source": [
    "We use the predict method on the knn object and pass it the features of the unknown Iris (as a Python list)<br>\n",
    "It is expecting a Numpy array but it still works with a list since Numpy automatically converts it to an array of the appropriate shape<br>\n",
    "- The predict method does returns an object - a NumPy array with the predicted response value\n",
    "    - In this case, the KNN algorithm, using k=1, predicts a response value of 2\n",
    "    - scikit-learn does not know what this 2 represents, so we need to keep track of the fact that 2 is the encoding for Virginica & thus Virginica is the predicted species for the unknown Iris\n",
    "- Can predict for multiple observations at once\n",
    "    - Below we create a list of lists for two new observations..."
   ]
  },
  {
   "cell_type": "code",
   "execution_count": 10,
   "metadata": {},
   "outputs": [
    {
     "data": {
      "text/plain": [
       "array([2, 1])"
      ]
     },
     "execution_count": 10,
     "metadata": {},
     "output_type": "execute_result"
    }
   ],
   "source": [
    "X_new = [[3, 5, 4, 2], [5, 4, 3, 2]]\n",
    "knn.predict(X_new)"
   ]
  },
  {
   "cell_type": "markdown",
   "metadata": {},
   "source": [
    "- When we pass X_new to the predict method, it gets converted to a Numpy array. This time with a shape of 2 x 4 which is interpreted as 2 observations with 4 features each\n",
    "- The predict method returns a Numpy array with values 2 & 1 which means that the prediction for the first unknown Iris was 2 or Virginica and its prediction for the second unknown Iris was 1 or Versicolor"
   ]
  },
  {
   "cell_type": "markdown",
   "metadata": {},
   "source": [
    "## Using a different value for K\n",
    "This is known as model tuning in which you are varying the arguments that you pass to the model. Note that you do not have to import the class again, you just instantiate the model with the new ``n_neighbors`` argument, fit the model with the data and make predictions..."
   ]
  },
  {
   "cell_type": "code",
   "execution_count": 11,
   "metadata": {},
   "outputs": [
    {
     "data": {
      "text/plain": [
       "array([1, 1])"
      ]
     },
     "execution_count": 11,
     "metadata": {},
     "output_type": "execute_result"
    }
   ],
   "source": [
    "# instantiate the model (using the value K=5)\n",
    "knn = KNeighborsClassifier(n_neighbors=5)\n",
    "\n",
    "# fit the model with data\n",
    "knn.fit(X, y)\n",
    "\n",
    "# predict the response for new observations\n",
    "knn.predict(X_new)"
   ]
  },
  {
   "cell_type": "markdown",
   "metadata": {},
   "source": [
    "This time, the model predicts the value 1 for both unknown Irises"
   ]
  },
  {
   "cell_type": "markdown",
   "metadata": {},
   "source": [
    "## Using a different classification model\n",
    "All scikit-learn models have a uniform interface, which means that you can use the same 4 step pattern on a different model with relative ease eg if we wanted to try logistic regression, which is another model used for classification...\n",
    "- I simply import logistic regression from the linear model module  \n",
    "- Instantiate the model with all of the default parameters\n",
    "- Fit the model with data &\n",
    "- Make predictions\n",
    "\n",
    "**Note:** Logistic Regression is an extension of Linear Regression, so we may need a grounding in linera Regression before we can tackle Logistic Regression"
   ]
  },
  {
   "cell_type": "code",
   "execution_count": 12,
   "metadata": {},
   "outputs": [
    {
     "data": {
      "text/plain": [
       "array([2, 0])"
      ]
     },
     "execution_count": 12,
     "metadata": {},
     "output_type": "execute_result"
    }
   ],
   "source": [
    "# import the class\n",
    "from sklearn.linear_model import LogisticRegression\n",
    "\n",
    "# instantiate the model (using the default parameters)\n",
    "logreg = LogisticRegression()\n",
    "\n",
    "# fit the model with data\n",
    "logreg.fit(X, y)\n",
    "\n",
    "# predict the response for new observations\n",
    "logreg.predict(X_new)"
   ]
  },
  {
   "cell_type": "markdown",
   "metadata": {},
   "source": [
    "This time, the model predicts a value of 2 or Virginica for the first unknown Iris and a value of 0 or Setosa for the second unknown Iris<br><br>\n",
    "**Which model produced the correct predictions?**<br>\n",
    "We don't know! These are out of sample observations meaning that we do not know the true response values<br>\n",
    "Our goal with Supervised Learning is to build models that generalise to new data. However, we are often unable to truly measure how well our models will perform on out of sample data<br><br>\n",
    "**Model evaluation procedures**<br>\n",
    "In the next lecture, we are going to look at evaluation procedures, for our models, which will allow us to estimate how well our models are likely to perform on out of sample data using our existing label data.<br>\n",
    "These procedures will help us to choose which value of k is best for KNN and to choose whether KNN or Logistic Regression is a better choice for our particular task"
   ]
  },
  {
   "cell_type": "markdown",
   "metadata": {},
   "source": [
    "## Resources\n",
    "\n",
    "- [Nearest Neighbors](http://scikit-learn.org/stable/modules/neighbors.html) (user guide), [KNeighborsClassifier](http://scikit-learn.org/stable/modules/generated/sklearn.neighbors.KNeighborsClassifier.html) (class documentation)\n",
    "- [Logistic Regression](http://scikit-learn.org/stable/modules/linear_model.html#logistic-regression) (user guide), [LogisticRegression](http://scikit-learn.org/stable/modules/generated/sklearn.linear_model.LogisticRegression.html) (class documentation)\n",
    "- [Videos from An Introduction to Statistical Learning](http://www.dataschool.io/15-hours-of-expert-machine-learning-videos/)\n",
    "    - Classification Problems and K-Nearest Neighbors (Chapter 2)\n",
    "    - Introduction to Classification (Chapter 4)\n",
    "    - Logistic Regression and Maximum Likelihood (Chapter 4)"
   ]
  },
  {
   "cell_type": "markdown",
   "metadata": {},
   "source": [
    "## Comments or Questions?\n",
    "\n",
    "- Email: <kevin@dataschool.io>\n",
    "- Website: http://dataschool.io\n",
    "- Twitter: [@justmarkham](https://twitter.com/justmarkham)"
   ]
  },
  {
   "cell_type": "code",
   "execution_count": null,
   "metadata": {},
   "outputs": [],
   "source": [
    "from IPython.core.display import HTML\n",
    "def css_styling():\n",
    "    styles = open(\"styles/custom.css\", \"r\").read()\n",
    "    return HTML(styles)\n",
    "css_styling()"
   ]
  }
 ],
 "metadata": {
  "kernelspec": {
   "display_name": "Python 3",
   "language": "python",
   "name": "python3"
  },
  "language_info": {
   "codemirror_mode": {
    "name": "ipython",
    "version": 3
   },
   "file_extension": ".py",
   "mimetype": "text/x-python",
   "name": "python",
   "nbconvert_exporter": "python",
   "pygments_lexer": "ipython3",
   "version": "3.6.5"
  }
 },
 "nbformat": 4,
 "nbformat_minor": 1
}
