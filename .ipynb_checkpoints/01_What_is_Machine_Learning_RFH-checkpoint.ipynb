{
 "cells": [
  {
   "cell_type": "markdown",
   "metadata": {},
   "source": [
    "# What is machine learning and how does it work?\n",
    "![Machine learning](images/01_robot.png)"
   ]
  },
  {
   "cell_type": "markdown",
   "metadata": {},
   "source": [
    "## Agenda\n",
    "\n",
    "- What is machine learning?\n",
    "- What are the two main categories of machine learning?\n",
    "- What are some examples of machine learning?\n",
    "- How does machine learning \"work\"?"
   ]
  },
  {
   "cell_type": "markdown",
   "metadata": {},
   "source": [
    "## What is machine learning?\n",
    "\n",
    "There is no universal definition but KM offers us his take on it. One definition: \"Machine learning is the semi-automated extraction of knowledge from data\"\n",
    "\n",
    "- **Knowledge from data**: Starts with a question that might be answerable using data\n",
    "- **Automated extraction**: A computer provides the insight\n",
    "- **Semi-automated**: Requires many smart decisions by a human"
   ]
  },
  {
   "cell_type": "markdown",
   "metadata": {},
   "source": [
    "## What are the two main categories of machine learning?\n",
    "\n",
    "**Supervised learning (Predictive Modelling)**: Making predictions using data\n",
    "    \n",
    "- Example: Is a given email \"spam\" or \"ham\"?\n",
    "- There is a specific outcome we are trying to predict namely \"ham\" or \"spam\"\n",
    "\n",
    "![Spam filter](images/01_spam_filter.png)<br>"
   ]
  },
  {
   "cell_type": "markdown",
   "metadata": {},
   "source": [
    "**Unsupervised learning**: Extracting structure from data or learning how to best represent data\n",
    "\n",
    "- Example: Segment grocery store shoppers into clusters that exhibit similar behaviours within their cluster but dissimilar to the other two groups \n",
    "- There is no \"right or wrong answer\"...\n",
    "    - About how many clusters can be found within the data\n",
    "    - Which people belong to which cluster\n",
    "    - Or even how to describe each cluster\n",
    "\n",
    "![Clustering](images/01_clustering.png)"
   ]
  },
  {
   "cell_type": "markdown",
   "metadata": {},
   "source": [
    "## How does machine learning \"work\"?\n",
    "\n",
    "High-level steps of supervised learning:\n",
    "\n",
    "1. First, train a **machine learning model** using **labeled data**\n",
    "\n",
    "    - \"Labeled data\" has been labeled with the outcome\n",
    "        - In the case of the email example, this labelling would be \"ham\" or \"spam\"\n",
    "        - This is called \"model training\" because the model is learning the relationship between the attributes of the data and the outcome.\n",
    "        - These attributes might include the message text, the number of embedded links, the length of the message etc\n",
    "    - \"Machine learning model\" learns the relationship between the attributes of the data and its outcome\n",
    "\n",
    "2. Then, make **predictions** on **new data** for which the label is unknown\n",
    " - When a new email message arrives you want your trained model to accurately predict whether the email is \"ham\" or \"spam\" without a human examining it\n",
    " \n",
    "The model is learning from past examples, made up of inputs and outputs and then applying what it has learned to future inputs in order to predict future outputs. Because you are making predictions on unseen data, data that was not used to train the model it is often said that the primary goal of supervised learning is to build models that generalise ie you want to build machine learning models that will accurately predict the labels of your future emails rather than accurately predicting the labels of emails that you have already received\n",
    "\n",
    "![Supervised learning](images/01_supervised_learning.png)\n",
    "\n",
    "The primary goal of supervised learning is to build a model that \"generalizes\": It accurately predicts the future rather than the past!"
   ]
  },
  {
   "cell_type": "markdown",
   "metadata": {},
   "source": [
    "## Questions about machine learning\n",
    "\n",
    "- How do I choose **which attributes** of my data to include in the model?\n",
    "- How do I choose **which model** to use?\n",
    "- How do I **optimize** this model for best performance?\n",
    "- How do I ensure that I'm building a model that will **generalize** to unseen data?\n",
    "- Can I **estimate** how well my model is likely to perform on unseen data?\n",
    "\n",
    "All of these issues will be addressed in the series"
   ]
  },
  {
   "cell_type": "markdown",
   "metadata": {},
   "source": [
    "## Resources\n",
    "\n",
    "- Book: [An Introduction to Statistical Learning](http://www-bcf.usc.edu/~gareth/ISL/) (section 2.1, 14 pages)\n",
    "- Video: [Learning Paradigms](http://work.caltech.edu/library/014.html) (13 minutes)"
   ]
  },
  {
   "cell_type": "code",
   "execution_count": null,
   "metadata": {},
   "outputs": [],
   "source": []
  }
 ],
 "metadata": {
  "kernelspec": {
   "display_name": "Python 3",
   "language": "python",
   "name": "python3"
  },
  "language_info": {
   "codemirror_mode": {
    "name": "ipython",
    "version": 3
   },
   "file_extension": ".py",
   "mimetype": "text/x-python",
   "name": "python",
   "nbconvert_exporter": "python",
   "pygments_lexer": "ipython3",
   "version": "3.6.5"
  }
 },
 "nbformat": 4,
 "nbformat_minor": 2
}
